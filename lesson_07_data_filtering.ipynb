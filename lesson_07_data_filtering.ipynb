{
 "cells": [
  {
   "cell_type": "code",
   "execution_count": 1,
   "id": "b1a147b9-c8cd-4f1d-839d-bbdb23556616",
   "metadata": {},
   "outputs": [],
   "source": [
    "import pandas as pd"
   ]
  },
  {
   "cell_type": "code",
   "execution_count": 9,
   "id": "17ebfafd-5cfc-4953-a8d3-b5ec5ef71ae3",
   "metadata": {},
   "outputs": [
    {
     "data": {
      "text/html": [
       "<div>\n",
       "<style scoped>\n",
       "    .dataframe tbody tr th:only-of-type {\n",
       "        vertical-align: middle;\n",
       "    }\n",
       "\n",
       "    .dataframe tbody tr th {\n",
       "        vertical-align: top;\n",
       "    }\n",
       "\n",
       "    .dataframe thead th {\n",
       "        text-align: right;\n",
       "    }\n",
       "</style>\n",
       "<table border=\"1\" class=\"dataframe\">\n",
       "  <thead>\n",
       "    <tr style=\"text-align: right;\">\n",
       "      <th></th>\n",
       "      <th>국어</th>\n",
       "    </tr>\n",
       "    <tr>\n",
       "      <th>이름</th>\n",
       "      <th></th>\n",
       "    </tr>\n",
       "  </thead>\n",
       "  <tbody>\n",
       "    <tr>\n",
       "      <th>가영</th>\n",
       "      <td>83</td>\n",
       "    </tr>\n",
       "    <tr>\n",
       "      <th>나미</th>\n",
       "      <td>66</td>\n",
       "    </tr>\n",
       "    <tr>\n",
       "      <th>다윤</th>\n",
       "      <td>100</td>\n",
       "    </tr>\n",
       "    <tr>\n",
       "      <th>라희</th>\n",
       "      <td>60</td>\n",
       "    </tr>\n",
       "    <tr>\n",
       "      <th>미선</th>\n",
       "      <td>92</td>\n",
       "    </tr>\n",
       "    <tr>\n",
       "      <th>보민</th>\n",
       "      <td>96</td>\n",
       "    </tr>\n",
       "  </tbody>\n",
       "</table>\n",
       "</div>"
      ],
      "text/plain": [
       "     국어\n",
       "이름     \n",
       "가영   83\n",
       "나미   66\n",
       "다윤  100\n",
       "라희   60\n",
       "미선   92\n",
       "보민   96"
      ]
     },
     "execution_count": 9,
     "metadata": {},
     "output_type": "execute_result"
    }
   ],
   "source": [
    "dfA = pd.read_csv(\"data/test.csv\",  index_col=0)\n",
    "dfB = pd.DataFrame()\n",
    "dfB[\"국어\"] = dfA[\"국어\"]\n",
    "dfB"
   ]
  },
  {
   "cell_type": "code",
   "execution_count": 14,
   "id": "4521e05c-d124-4b28-94a0-a8cdf64dbc7c",
   "metadata": {},
   "outputs": [],
   "source": [
    "dfA = pd.read_csv(\"data/test.csv\", index_col=0)\n",
    "dfB = pd.DataFrame()\n",
    "# dfB.append(dfA.iloc[0]) # append메소드 지원하지 않음"
   ]
  },
  {
   "cell_type": "code",
   "execution_count": 19,
   "id": "30667b94-42cb-4d54-ac7c-025b6baca215",
   "metadata": {},
   "outputs": [
    {
     "data": {
      "text/html": [
       "<div>\n",
       "<style scoped>\n",
       "    .dataframe tbody tr th:only-of-type {\n",
       "        vertical-align: middle;\n",
       "    }\n",
       "\n",
       "    .dataframe tbody tr th {\n",
       "        vertical-align: top;\n",
       "    }\n",
       "\n",
       "    .dataframe thead th {\n",
       "        text-align: right;\n",
       "    }\n",
       "</style>\n",
       "<table border=\"1\" class=\"dataframe\">\n",
       "  <thead>\n",
       "    <tr style=\"text-align: right;\">\n",
       "      <th></th>\n",
       "      <th>수학</th>\n",
       "      <th>영어</th>\n",
       "      <th>학생번호</th>\n",
       "    </tr>\n",
       "    <tr>\n",
       "      <th>이름</th>\n",
       "      <th></th>\n",
       "      <th></th>\n",
       "      <th></th>\n",
       "    </tr>\n",
       "  </thead>\n",
       "  <tbody>\n",
       "    <tr>\n",
       "      <th>가영</th>\n",
       "      <td>89</td>\n",
       "      <td>76</td>\n",
       "      <td>A001</td>\n",
       "    </tr>\n",
       "    <tr>\n",
       "      <th>나미</th>\n",
       "      <td>93</td>\n",
       "      <td>75</td>\n",
       "      <td>B001</td>\n",
       "    </tr>\n",
       "    <tr>\n",
       "      <th>다윤</th>\n",
       "      <td>84</td>\n",
       "      <td>96</td>\n",
       "      <td>B002</td>\n",
       "    </tr>\n",
       "    <tr>\n",
       "      <th>라희</th>\n",
       "      <td>73</td>\n",
       "      <td>40</td>\n",
       "      <td>A002</td>\n",
       "    </tr>\n",
       "    <tr>\n",
       "      <th>미선</th>\n",
       "      <td>62</td>\n",
       "      <td>84</td>\n",
       "      <td>C001</td>\n",
       "    </tr>\n",
       "    <tr>\n",
       "      <th>보민</th>\n",
       "      <td>92</td>\n",
       "      <td>94</td>\n",
       "      <td>C002</td>\n",
       "    </tr>\n",
       "  </tbody>\n",
       "</table>\n",
       "</div>"
      ],
      "text/plain": [
       "    수학  영어  학생번호\n",
       "이름              \n",
       "가영  89  76  A001\n",
       "나미  93  75  B001\n",
       "다윤  84  96  B002\n",
       "라희  73  40  A002\n",
       "미선  62  84  C001\n",
       "보민  92  94  C002"
      ]
     },
     "execution_count": 19,
     "metadata": {},
     "output_type": "execute_result"
    }
   ],
   "source": [
    "# 열 삭제\n",
    "dfA = pd.read_csv(\"data/test.csv\", index_col=0)\n",
    "dfA = dfA.drop(\"국어\", axis=1)\n",
    "dfA"
   ]
  },
  {
   "cell_type": "code",
   "execution_count": 24,
   "id": "110d0aba-f7c5-479e-b2f1-a0c6a4a3fd59",
   "metadata": {},
   "outputs": [
    {
     "data": {
      "text/html": [
       "<div>\n",
       "<style scoped>\n",
       "    .dataframe tbody tr th:only-of-type {\n",
       "        vertical-align: middle;\n",
       "    }\n",
       "\n",
       "    .dataframe tbody tr th {\n",
       "        vertical-align: top;\n",
       "    }\n",
       "\n",
       "    .dataframe thead th {\n",
       "        text-align: right;\n",
       "    }\n",
       "</style>\n",
       "<table border=\"1\" class=\"dataframe\">\n",
       "  <thead>\n",
       "    <tr style=\"text-align: right;\">\n",
       "      <th></th>\n",
       "      <th>국어</th>\n",
       "      <th>수학</th>\n",
       "      <th>영어</th>\n",
       "      <th>학생번호</th>\n",
       "    </tr>\n",
       "    <tr>\n",
       "      <th>이름</th>\n",
       "      <th></th>\n",
       "      <th></th>\n",
       "      <th></th>\n",
       "      <th></th>\n",
       "    </tr>\n",
       "  </thead>\n",
       "  <tbody>\n",
       "    <tr>\n",
       "      <th>가영</th>\n",
       "      <td>83</td>\n",
       "      <td>89</td>\n",
       "      <td>76</td>\n",
       "      <td>A001</td>\n",
       "    </tr>\n",
       "    <tr>\n",
       "      <th>나미</th>\n",
       "      <td>66</td>\n",
       "      <td>93</td>\n",
       "      <td>75</td>\n",
       "      <td>B001</td>\n",
       "    </tr>\n",
       "    <tr>\n",
       "      <th>다윤</th>\n",
       "      <td>100</td>\n",
       "      <td>84</td>\n",
       "      <td>96</td>\n",
       "      <td>B002</td>\n",
       "    </tr>\n",
       "    <tr>\n",
       "      <th>미선</th>\n",
       "      <td>92</td>\n",
       "      <td>62</td>\n",
       "      <td>84</td>\n",
       "      <td>C001</td>\n",
       "    </tr>\n",
       "    <tr>\n",
       "      <th>보민</th>\n",
       "      <td>96</td>\n",
       "      <td>92</td>\n",
       "      <td>94</td>\n",
       "      <td>C002</td>\n",
       "    </tr>\n",
       "  </tbody>\n",
       "</table>\n",
       "</div>"
      ],
      "text/plain": [
       "     국어  수학  영어  학생번호\n",
       "이름                   \n",
       "가영   83  89  76  A001\n",
       "나미   66  93  75  B001\n",
       "다윤  100  84  96  B002\n",
       "미선   92  62  84  C001\n",
       "보민   96  92  94  C002"
      ]
     },
     "execution_count": 24,
     "metadata": {},
     "output_type": "execute_result"
    }
   ],
   "source": [
    "# 행 삭제\n",
    "dfA = pd.read_csv(\"data/test.csv\", index_col=0)\n",
    "dfA = dfA.drop(dfA.index[3])\n",
    "dfA"
   ]
  },
  {
   "cell_type": "code",
   "execution_count": 26,
   "id": "f2a5ab10-8e7d-4f45-8671-a56fc8f9dbc5",
   "metadata": {},
   "outputs": [
    {
     "data": {
      "text/plain": [
       "이름\n",
       "가영     True\n",
       "나미    False\n",
       "다윤     True\n",
       "라희    False\n",
       "미선     True\n",
       "보민     True\n",
       "Name: 국어, dtype: bool"
      ]
     },
     "execution_count": 26,
     "metadata": {},
     "output_type": "execute_result"
    }
   ],
   "source": [
    "# 조건으로 데이터 추출\n",
    "dfA = pd.read_csv(\"data/test.csv\", index_col=0)\n",
    "dfA[\"국어\"] > 80"
   ]
  },
  {
   "cell_type": "code",
   "execution_count": 27,
   "id": "5dc93781-d529-4926-8d31-cabef356bfbb",
   "metadata": {},
   "outputs": [
    {
     "data": {
      "text/html": [
       "<div>\n",
       "<style scoped>\n",
       "    .dataframe tbody tr th:only-of-type {\n",
       "        vertical-align: middle;\n",
       "    }\n",
       "\n",
       "    .dataframe tbody tr th {\n",
       "        vertical-align: top;\n",
       "    }\n",
       "\n",
       "    .dataframe thead th {\n",
       "        text-align: right;\n",
       "    }\n",
       "</style>\n",
       "<table border=\"1\" class=\"dataframe\">\n",
       "  <thead>\n",
       "    <tr style=\"text-align: right;\">\n",
       "      <th></th>\n",
       "      <th>국어</th>\n",
       "      <th>수학</th>\n",
       "      <th>영어</th>\n",
       "      <th>학생번호</th>\n",
       "    </tr>\n",
       "    <tr>\n",
       "      <th>이름</th>\n",
       "      <th></th>\n",
       "      <th></th>\n",
       "      <th></th>\n",
       "      <th></th>\n",
       "    </tr>\n",
       "  </thead>\n",
       "  <tbody>\n",
       "    <tr>\n",
       "      <th>가영</th>\n",
       "      <td>83</td>\n",
       "      <td>89</td>\n",
       "      <td>76</td>\n",
       "      <td>A001</td>\n",
       "    </tr>\n",
       "    <tr>\n",
       "      <th>다윤</th>\n",
       "      <td>100</td>\n",
       "      <td>84</td>\n",
       "      <td>96</td>\n",
       "      <td>B002</td>\n",
       "    </tr>\n",
       "    <tr>\n",
       "      <th>미선</th>\n",
       "      <td>92</td>\n",
       "      <td>62</td>\n",
       "      <td>84</td>\n",
       "      <td>C001</td>\n",
       "    </tr>\n",
       "    <tr>\n",
       "      <th>보민</th>\n",
       "      <td>96</td>\n",
       "      <td>92</td>\n",
       "      <td>94</td>\n",
       "      <td>C002</td>\n",
       "    </tr>\n",
       "  </tbody>\n",
       "</table>\n",
       "</div>"
      ],
      "text/plain": [
       "     국어  수학  영어  학생번호\n",
       "이름                   \n",
       "가영   83  89  76  A001\n",
       "다윤  100  84  96  B002\n",
       "미선   92  62  84  C001\n",
       "보민   96  92  94  C002"
      ]
     },
     "execution_count": 27,
     "metadata": {},
     "output_type": "execute_result"
    }
   ],
   "source": [
    "dfB = dfA[dfA[\"국어\"] > 80]\n",
    "dfB"
   ]
  },
  {
   "cell_type": "code",
   "execution_count": 28,
   "id": "73e0aa21-3b49-4410-ad61-2677b296a9e1",
   "metadata": {},
   "outputs": [
    {
     "ename": "SyntaxError",
     "evalue": "closing parenthesis ']' does not match opening parenthesis '(' (1184690074.py, line 1)",
     "output_type": "error",
     "traceback": [
      "\u001b[1;36m  Cell \u001b[1;32mIn[28], line 1\u001b[1;36m\u001b[0m\n\u001b[1;33m    dfB = dfA[(dfA[\"국어\"] > 80 & dfA[\"수학\"] > 80])\u001b[0m\n\u001b[1;37m                                              ^\u001b[0m\n\u001b[1;31mSyntaxError\u001b[0m\u001b[1;31m:\u001b[0m closing parenthesis ']' does not match opening parenthesis '('\n"
     ]
    }
   ],
   "source": [
    "dfB = dfA[(dfA[\"국어\"] > 80 & dfA[\"수학\"] > 80])\n",
    "dfB"
   ]
  },
  {
   "cell_type": "code",
   "execution_count": null,
   "id": "b4c41577-f3df-424a-9967-31e342b4b8c6",
   "metadata": {},
   "outputs": [],
   "source": []
  }
 ],
 "metadata": {
  "kernelspec": {
   "display_name": "Python 3 (ipykernel)",
   "language": "python",
   "name": "python3"
  },
  "language_info": {
   "codemirror_mode": {
    "name": "ipython",
    "version": 3
   },
   "file_extension": ".py",
   "mimetype": "text/x-python",
   "name": "python",
   "nbconvert_exporter": "python",
   "pygments_lexer": "ipython3",
   "version": "3.11.3"
  }
 },
 "nbformat": 4,
 "nbformat_minor": 5
}
